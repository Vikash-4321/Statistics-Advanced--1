{
  "nbformat": 4,
  "nbformat_minor": 0,
  "metadata": {
    "colab": {
      "provenance": []
    },
    "kernelspec": {
      "name": "python3",
      "display_name": "Python 3"
    },
    "language_info": {
      "name": "python"
    }
  },
  "cells": [
    {
      "cell_type": "markdown",
      "source": [
        "# Statistics Advanced - 1| Assignment\n"
      ],
      "metadata": {
        "id": "M4yqgPmYYpmO"
      }
    },
    {
      "cell_type": "markdown",
      "source": [
        "Q1.  What is a random variable in probability theory?\n",
        "   - A random variable in probability theory is a function that assigns a numerical value to each possible outcome of a random experiment.\n",
        "\n",
        "   👉 In simpler terms:\n",
        "\n",
        "     When you perform an experiment (like tossing a coin, rolling a die, or measuring customer wait times), there are possible outcomes.\n",
        "\n",
        "     A random variable is a rule that maps each outcome to a number.\n",
        "\n",
        "    A random variable is a way to represent uncertain outcomes numerically so we can analyze them using probability and statistics."
      ],
      "metadata": {
        "id": "6jrmiLmCYvev"
      }
    },
    {
      "cell_type": "markdown",
      "source": [
        "Q2.  What are the types of random variables?\n",
        "      --1. Discrete Random Variable\n",
        "       Takes on countable values (finite or countably infinite).\n",
        "      Usually arises from experiments with distinct outcomes.\n",
        "\n",
        "      2.Continuous Random Variable\n",
        "        Takes values from an uncountable set (typically an interval of real numbers).\n",
        "        Outcomes can be measured but not counted.\n",
        "\n",
        "      3. Mixed Random Variable\n",
        "        Has both discrete and continuous components.\n",
        "        "
      ],
      "metadata": {
        "id": "dmpTh1qTZAeG"
      }
    },
    {
      "cell_type": "markdown",
      "source": [
        "Q3.  Explain the difference between discrete and continuous distributions.\n",
        "    -- Definition\n",
        "\n",
        "      Discrete Distribution: Probability distribution of a discrete random variable (one that takes countable values).\n",
        "\n",
        "      Continuous Distribution: Probability distribution of a continuous random variable (one that takes uncountable values in an interval).\n",
        "\n",
        "      Values Taken\n",
        "\n",
        "     **Discrete**: Specific, separate values (like integers).\n",
        "     Example: Number of students in a class {0,1,2,…}\n",
        "\n",
        "    ***Continuous***: Any value within a range (real numbers).\n",
        "    Example: Height of a person, time to run a race.\n",
        "\n",
        "  . Probability Assignment\n",
        "\n",
        "   Discrete: Probability is assigned to individual values.\n",
        "   Example: Rolling a die →\n",
        "P(X=3)=16\n",
        "P(X=3)=\n",
        "6\n",
        "1\n",
        "\t​\n",
        "\n",
        "\n",
        "   Continuous: Probability of a single value is zero; probabilities are assigned over intervals.\n",
        "Example:\n",
        "P(5<X<6)=0.2\n",
        "P(5<X<6)=0.2\n",
        "\n",
        "   Function Used\n",
        "\n",
        "     Discrete: Probability Mass Function (PMF)\n",
        "\n",
        "     Continuous: Probability Density Function (PDF)\n",
        "\n",
        "  . Graph Representation\n",
        "\n",
        "    Discrete: Bar graph (distinct bars for each value)\n",
        "\n",
        "    Continuous: Smooth curve (area under curve represents probability)\n",
        "\n",
        "    Total Probability\n",
        "\n",
        "       Discrete:\n",
        "∑P(X=x)=1\n",
        "∑P(X=x)=1\n",
        "\n",
        "      Continuous:\n",
        "∫−∞∞f(x) dx=1\n",
        "∫\n",
        "−∞\n",
        "∞\n",
        "\t​\n",
        "\n",
        "f(x)dx=1"
      ],
      "metadata": {
        "id": "NjJ-_c18ZjBB"
      }
    },
    {
      "cell_type": "markdown",
      "source": [
        "Q4. What is a binomial distribution, and how is it used in probability?\n",
        "     A binomial distribution is a type of discrete probability distribution that models the number of successes in a fixed number of independent trials, where each trial has only two possible outcomes (success or failure) and the probability of success is constant.\n",
        "\n",
        "     Probability Formula\n",
        "\n",
        "The probability of getting exactly\n",
        "k\n",
        "k successes in\n",
        "n\n",
        "n trials is:\n",
        "\n",
        "P(X=k)=(nk)pk(1−p)n−k\n",
        "P(X=k)=(\n",
        "k\n",
        "n\n",
        "\t​\n",
        "\n",
        ")p\n",
        "k\n",
        "(1−p)\n",
        "n−k\n",
        "\n",
        "Where:\n",
        "\n",
        "(nk)=n!k!(n−k)!\n",
        "(\n",
        "k\n",
        "n\n",
        "\t​\n",
        "\n",
        ")=\n",
        "k!(n−k)!\n",
        "n!\n",
        "\t​\n",
        "\n",
        " → number of ways to choose\n",
        "k\n",
        "k successes out of\n",
        "n\n",
        "n trials\n",
        "\n",
        "p\n",
        "p → probability of success\n",
        "\n",
        "1−p\n",
        "1−p → probability of failure"
      ],
      "metadata": {
        "id": "7jdgzEx9are8"
      }
    },
    {
      "cell_type": "markdown",
      "source": [
        "Q5. What is the standard normal distribution, and why is it important?\n",
        "    - The standard normal distribution is a special case of the normal (bell-shaped) distribution that has a mean of 0 and a standard deviation of 1. It is denoted by\n",
        "Z\n",
        "Z and often called the Z-distribution.\n",
        "\n",
        "    Why It’s Important\n",
        "\n",
        "    Standardization:\n",
        "Any normal distribution can be converted to a standard normal distribution using the formula:\n",
        "\n",
        "Z=X−μσ\n",
        "Z=\n",
        "σ\n",
        "X−μ\n",
        "\t​\n",
        "\n",
        "\n",
        "where\n",
        "X\n",
        "X is a value from any normal distribution with mean\n",
        "μ\n",
        "μ and standard deviation\n",
        "σ\n",
        "σ.\n",
        "\n",
        "    Probability Calculations:\n",
        "Using Z-tables, you can find probabilities and percentiles for any normal distribution.\n",
        "\n",
        "    Simplifies Analysis:\n",
        "Instead of computing probabilities separately for different normal distributions, we can convert them to the standard normal distribution and use one table.\n",
        "\n",
        "   Foundation for Statistical Tests:\n",
        "\n",
        "Hypothesis testing (Z-tests)\n",
        "\n",
        "Confidence intervals\n",
        "\n",
        "Control charts in quality control"
      ],
      "metadata": {
        "id": "ssFuXY9qa8d4"
      }
    },
    {
      "cell_type": "markdown",
      "source": [
        "Q6.  What is the Central Limit Theorem (CLT), and why is it critical in statistics?\n",
        "\n",
        "   The Central Limit Theorem (CLT) is one of the most important concepts in statistics because it explains why many statistical methods work, even when the underlying population is not normal.\n",
        "\n",
        "   Why CLT is Critical\n",
        "\n",
        "     Foundation for inferential statistics:\n",
        "Hypothesis testing\n",
        "\n",
        "Confidence intervals\n",
        "\n",
        "Z-tests and t-tests\n",
        "\n",
        "      Simplifies probability calculations:\n",
        "\n",
        "Even if population is not normal, the sample mean behaves normally for large\n",
        "n\n",
        "n.\n",
        "\n",
        "     Predictability:\n",
        "\n",
        "Allows estimation of probabilities and ranges for sample means."
      ],
      "metadata": {
        "id": "PJDbHCz9bWq4"
      }
    },
    {
      "cell_type": "markdown",
      "source": [
        "Q7.  What is the significance of confidence intervals in statistical analysis?\n",
        "       --Confidence intervals (CIs) are a fundamental concept in statistics because they give a range of plausible values for an unknown population parameter (like a mean or proportion), rather than just a single estimate.\n",
        "      \n",
        "      A confidence interval is an interval estimate, derived from sample data, that is likely to contain the true population parameter with a specified probability (confidence level).\n",
        "\n",
        "CI=point estimate±(critical value×standard error)\n",
        "CI=point estimate±(critical value×standard error)"
      ],
      "metadata": {
        "id": "zx7P-yXObxdR"
      }
    },
    {
      "cell_type": "markdown",
      "source": [
        "Q8.  What is the concept of expected value in a probability distribution?\n",
        "     --The expected value (also called the mean or mathematical expectation) of a probability distribution is a measure of the average or “center” of a random variable. It represents the long-run average outcome if the experiment were repeated many times.\n",
        "\n",
        "       For a random variable\n",
        "X\n",
        "X:\n",
        "\n",
        "Discrete random variable:\n",
        "\n",
        "E(X)=∑ixi⋅P(X=xi)\n",
        "E(X)=\n",
        "i\n",
        "∑\n",
        "\t​\n",
        "\n",
        "x\n",
        "i\n",
        "\t​\n",
        "\n",
        "⋅P(X=x\n",
        "i\n",
        "\t​\n",
        "\n",
        ")\n",
        "\n",
        "Where\n",
        "xi\n",
        "x\n",
        "i\n",
        "\t​\n",
        "\n",
        " are the possible values and\n",
        "P(X=xi)\n",
        "P(X=x\n",
        "i\n",
        "\t​\n",
        "\n",
        ") is the probability of each value.\n",
        "\n",
        "       Continuous random variable:\n",
        "\n",
        "E(X)=∫−∞∞x⋅f(x) dx\n",
        "E(X)=∫\n",
        "−∞\n",
        "∞\n",
        "\t​\n",
        "\n",
        "x⋅f(x)dx\n",
        "\n",
        "Where\n",
        "f(x)\n",
        "f(x) is the probability density function (PDF) of\n",
        "X\n",
        "X."
      ],
      "metadata": {
        "id": "kt97fIvJb_Ts"
      }
    },
    {
      "cell_type": "markdown",
      "source": [
        "Q9.  Write a Python program to generate 1000 random numbers from a normal\n",
        "distribution with mean = 50 and standard deviation = 5. Compute its mean and standard\n",
        "deviation using NumPy, and draw a histogram to visualize the distribution.\n",
        "    -"
      ],
      "metadata": {
        "id": "4ZA8PUT_cSDx"
      }
    },
    {
      "cell_type": "code",
      "source": [
        "import numpy as np\n",
        "import matplotlib.pyplot as plt\n",
        "\n",
        "# Parameters\n",
        "mean = 50\n",
        "std_dev = 5\n",
        "n_samples = 1000\n",
        "\n",
        "# Generate 1000 random numbers from a normal distribution\n",
        "data = np.random.normal(loc=mean, scale=std_dev, size=n_samples)\n",
        "\n",
        "# Compute mean and standard deviation\n",
        "calculated_mean = np.mean(data)\n",
        "calculated_std = np.std(data)\n",
        "\n",
        "print(f\"Calculated Mean: {calculated_mean:.2f}\")\n",
        "print(f\"Calculated Standard Deviation: {calculated_std:.2f}\")\n",
        "\n",
        "# Draw histogram\n",
        "plt.figure(figsize=(10,6))\n",
        "plt.hist(data, bins=30, color='skyblue', edgecolor='black', alpha=0.7)\n",
        "plt.title(\"Histogram of Normally Distributed Random Numbers\")\n",
        "plt.xlabel(\"Value\")\n",
        "plt.ylabel(\"Frequency\")\n",
        "plt.axvline(calculated_mean, color='red', linestyle='dashed', linewidth=2, label=f\"Mean = {calculated_mean:.2f}\")\n",
        "plt.legend()\n",
        "plt.show()\n"
      ],
      "metadata": {
        "colab": {
          "base_uri": "https://localhost:8080/",
          "height": 599
        },
        "id": "WryV8-7Hca_s",
        "outputId": "b06627b5-ec9b-4d68-d7ad-ba48934d36ef"
      },
      "execution_count": 1,
      "outputs": [
        {
          "output_type": "stream",
          "name": "stdout",
          "text": [
            "Calculated Mean: 49.82\n",
            "Calculated Standard Deviation: 5.01\n"
          ]
        },
        {
          "output_type": "display_data",
          "data": {
            "text/plain": [
              "<Figure size 1000x600 with 1 Axes>"
            ],
            "image/png": "[encoded data removed]"
          },
          "metadata": {}
        }
      ]
    },
    {
      "cell_type": "markdown",
      "source": [
        "Q10.  You are working as a data analyst for a retail company. The company has\n",
        "collected daily sales data for 2 years and wants you to identify the overall sales trend.\n",
        "daily_sales = [220, 245, 210, 265, 230, 250, 260, 275, 240, 255,\n",
        "235, 260, 245, 250, 225, 270, 265, 255, 250, 260]\n",
        "● Explain how you would apply the Central Limit Theorem to estimate the average sales\n",
        "with a 95% confidence interval.\n",
        "● Write the Python code to compute the mean sales and its confidence interval.\n",
        "  \n",
        "\n",
        "     -- 1. Applying the Central Limit Theorem (CLT)\n",
        "\n",
        "The Central Limit Theorem tells us that the sampling distribution of the sample mean will be approximately normal if we have a reasonably large sample, regardless of the population's shape.\n",
        "\n",
        "Even though our sample size here is small (n = 20), we can still approximate a confidence interval using the t-distribution because the population standard deviation is unknown.\n",
        "\n",
        "Steps to estimate the 95% confidence interval for average daily sales:\n",
        "\n",
        "Compute the sample mean (\n",
        "Xˉ\n",
        "X\n",
        "ˉ\n",
        ") of daily sales.\n",
        "\n",
        "Compute the sample standard deviation (\n",
        "s\n",
        "s).\n",
        "\n",
        "Calculate the standard error (SE):\n",
        "\n",
        "SE=sn\n",
        "SE=\n",
        "n"
      ],
      "metadata": {
        "id": "Jfb-1X4fcg-a"
      }
    },
    {
      "cell_type": "code",
      "source": [
        "import numpy as np\n",
        "from scipy import stats\n",
        "\n",
        "# Daily sales data\n",
        "daily_sales = [220, 245, 210, 265, 230, 250, 260, 275, 240, 255,\n",
        "               235, 260, 245, 250, 225, 270, 265, 255, 250, 260]\n",
        "\n",
        "# Sample size\n",
        "n = len(daily_sales)\n",
        "\n",
        "# Sample mean and standard deviation\n",
        "mean_sales = np.mean(daily_sales)\n",
        "std_sales = np.std(daily_sales, ddof=1)  # ddof=1 for sample standard deviation\n",
        "\n",
        "# Standard error\n",
        "SE = std_sales / np.sqrt(n)\n",
        "\n",
        "# t-critical value for 95% confidence\n",
        "confidence_level = 0.95\n",
        "df = n - 1\n",
        "t_crit = stats.t.ppf((1 + confidence_level)/2, df)\n",
        "\n",
        "# Confidence interval\n",
        "CI_lower = mean_sales - t_crit * SE\n",
        "CI_upper = mean_sales + t_crit * SE\n",
        "\n",
        "print(f\"Mean Daily Sales: {mean_sales:.2f}\")\n",
        "print(f\"95% Confidence Interval: ({CI_lower:.2f}, {CI_upper:.2f})\")\n"
      ],
      "metadata": {
        "colab": {
          "base_uri": "https://localhost:8080/"
        },
        "id": "da8cUIJRdElK",
        "outputId": "9d42e9df-4fcc-4fc6-f98f-6ef583378b4c"
      },
      "execution_count": 2,
      "outputs": [
        {
          "output_type": "stream",
          "name": "stdout",
          "text": [
            "Mean Daily Sales: 248.25\n",
            "95% Confidence Interval: (240.17, 256.33)\n"
          ]
        }
      ]
    }
  ]
}